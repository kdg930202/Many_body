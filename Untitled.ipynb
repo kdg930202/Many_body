{
 "cells": [
  {
   "cell_type": "code",
   "execution_count": 9,
   "id": "9a847934",
   "metadata": {},
   "outputs": [],
   "source": [
    "using LinearAlgebra, SparseArrays\n",
    "using Random\n",
    "using LinearMaps\n",
    "using Combinatorics\n",
    "using ProfileView\n",
    "using Arpack\n",
    "using Plots\n",
    "using BitIntegers\n",
    "using Statistics\n",
    "using StatsBase\n",
    "using KrylovKit\n",
    "using Revise\n",
    "using DataFrames\n",
    "using RandomMatrices\n",
    "using ExactDiagonalization"
   ]
  },
  {
   "cell_type": "code",
   "execution_count": 13,
   "id": "7f952046",
   "metadata": {},
   "outputs": [],
   "source": [
    "# \\otimes 쓰고 tab 누르면 됨 ⊗\n",
    "# Jordan-Wigner Representation\n",
    "# https://learn.microsoft.com/en-us/azure/quantum/user-guide/libraries/chemistry/concepts/jordan-wigner\n",
    "\n"
   ]
  },
  {
   "cell_type": "code",
   "execution_count": 96,
   "id": "eb78bc0a",
   "metadata": {},
   "outputs": [
    {
     "data": {
      "text/plain": [
       "2×2 Matrix{Int64}:\n",
       " 1  0\n",
       " 0  1"
      ]
     },
     "execution_count": 96,
     "metadata": {},
     "output_type": "execute_result"
    }
   ],
   "source": [
    "N = 8\n",
    "global sigma_p = [0 1;0 0]\n",
    "global sigma_m = [0 0;1 0]\n",
    "global sigma_z = [1 0;0 -1]\n",
    "global I = [1 0; 0 1]\n"
   ]
  },
  {
   "cell_type": "code",
   "execution_count": 97,
   "id": "de18bb91",
   "metadata": {},
   "outputs": [
    {
     "data": {
      "text/plain": [
       "1680-element Vector{Vector{Int64}}:\n",
       " [1, 2, 3, 4]\n",
       " [1, 2, 3, 5]\n",
       " [1, 2, 3, 6]\n",
       " [1, 2, 3, 7]\n",
       " [1, 2, 3, 8]\n",
       " [1, 2, 4, 3]\n",
       " [1, 2, 4, 5]\n",
       " [1, 2, 4, 6]\n",
       " [1, 2, 4, 7]\n",
       " [1, 2, 4, 8]\n",
       " [1, 2, 5, 3]\n",
       " [1, 2, 5, 4]\n",
       " [1, 2, 5, 6]\n",
       " ⋮\n",
       " [8, 7, 4, 5]\n",
       " [8, 7, 4, 6]\n",
       " [8, 7, 5, 1]\n",
       " [8, 7, 5, 2]\n",
       " [8, 7, 5, 3]\n",
       " [8, 7, 5, 4]\n",
       " [8, 7, 5, 6]\n",
       " [8, 7, 6, 1]\n",
       " [8, 7, 6, 2]\n",
       " [8, 7, 6, 3]\n",
       " [8, 7, 6, 4]\n",
       " [8, 7, 6, 5]"
      ]
     },
     "execution_count": 97,
     "metadata": {},
     "output_type": "execute_result"
    }
   ],
   "source": [
    "permus = collect(multiset_permutations(collect(1:N), 4))\n",
    "\n",
    "# permus = Vector{Int64}[]\n",
    "# # J = []\n",
    "# for i in 1:N\n",
    "#     for j in 1:N\n",
    "#         for k in 1:N\n",
    "#             for l in 1:N\n",
    "#                 push!(permus,[i,j,k,l])\n",
    "# #                 push!(J,i+j+2*(k+l)*im)\n",
    "#             end\n",
    "#         end\n",
    "#     end\n",
    "# end\n",
    "# permus\n",
    "# J"
   ]
  },
  {
   "cell_type": "code",
   "execution_count": 65,
   "id": "baecf826",
   "metadata": {},
   "outputs": [
    {
     "data": {
      "text/plain": [
       "256-element Vector{Vector{Int64}}:\n",
       " [1, 1, 1, 1]\n",
       " [1, 1, 1, 2]\n",
       " [1, 1, 1, 3]\n",
       " [1, 1, 1, 4]\n",
       " [1, 1, 2, 1]\n",
       " [1, 1, 2, 2]\n",
       " [1, 1, 2, 3]\n",
       " [1, 1, 2, 4]\n",
       " [1, 1, 3, 1]\n",
       " [1, 1, 3, 2]\n",
       " [1, 1, 3, 3]\n",
       " [1, 1, 3, 4]\n",
       " [1, 1, 4, 1]\n",
       " ⋮\n",
       " [4, 4, 2, 1]\n",
       " [4, 4, 2, 2]\n",
       " [4, 4, 2, 3]\n",
       " [4, 4, 2, 4]\n",
       " [4, 4, 3, 1]\n",
       " [4, 4, 3, 2]\n",
       " [4, 4, 3, 3]\n",
       " [4, 4, 3, 4]\n",
       " [4, 4, 4, 1]\n",
       " [4, 4, 4, 2]\n",
       " [4, 4, 4, 3]\n",
       " [4, 4, 4, 4]"
      ]
     },
     "execution_count": 65,
     "metadata": {},
     "output_type": "execute_result"
    }
   ],
   "source": [
    "# new_permu = permus"
   ]
  },
  {
   "cell_type": "code",
   "execution_count": 98,
   "id": "e9ec9957",
   "metadata": {},
   "outputs": [
    {
     "data": {
      "text/plain": [
       "210-element Vector{Vector{Int64}}:\n",
       " [1, 2, 3, 4]\n",
       " [1, 2, 3, 5]\n",
       " [1, 2, 3, 6]\n",
       " [1, 2, 3, 7]\n",
       " [1, 2, 3, 8]\n",
       " [1, 2, 4, 5]\n",
       " [1, 2, 4, 6]\n",
       " [1, 2, 4, 7]\n",
       " [1, 2, 4, 8]\n",
       " [1, 2, 5, 6]\n",
       " [1, 2, 5, 7]\n",
       " [1, 2, 5, 8]\n",
       " [1, 2, 6, 7]\n",
       " ⋮\n",
       " [4, 6, 5, 7]\n",
       " [4, 6, 5, 8]\n",
       " [4, 6, 7, 8]\n",
       " [4, 7, 5, 6]\n",
       " [4, 7, 5, 8]\n",
       " [4, 7, 6, 8]\n",
       " [4, 8, 5, 6]\n",
       " [4, 8, 5, 7]\n",
       " [4, 8, 6, 7]\n",
       " [5, 6, 7, 8]\n",
       " [5, 7, 6, 8]\n",
       " [5, 8, 6, 7]"
      ]
     },
     "execution_count": 98,
     "metadata": {},
     "output_type": "execute_result"
    }
   ],
   "source": [
    "new_permu = Vector{Int64}[]\n",
    "# new_permu = []\n",
    "for i in 1:length(permus)\n",
    "    a = permus[i][1]\n",
    "    b = permus[i][2]\n",
    "    c = permus[i][3]\n",
    "    d = permus[i][4]\n",
    "    if a<b && c<d && a<c\n",
    "#     if a<b<c<d \n",
    "        new_permu = push!(new_permu,[a,b,c,d])\n",
    "#         print([a,b,c,d])\n",
    "    end    \n",
    "end\n",
    "\n",
    "new_permu\n",
    "# 1234\n",
    "# 1243\n",
    "# 1324\n",
    "# 1342\n",
    "# 1423"
   ]
  },
  {
   "cell_type": "code",
   "execution_count": 57,
   "id": "f9aee85b",
   "metadata": {},
   "outputs": [
    {
     "data": {
      "text/plain": [
       "cc (generic function with 1 method)"
      ]
     },
     "execution_count": 57,
     "metadata": {},
     "output_type": "execute_result"
    }
   ],
   "source": [
    "function cd(i,N)\n",
    "    out = sigma_p\n",
    "    for x in 1:(i-1)\n",
    "        out = kron(sigma_z,out)\n",
    "    end\n",
    "    \n",
    "    for x in 1:(N-i)\n",
    "        out = kron(out,I)\n",
    "    end\n",
    "    return out\n",
    "end\n",
    "\n",
    "function cc(i,N)\n",
    "    out = sigma_m\n",
    "    for x in 1:(i-1)\n",
    "        out = kron(sigma_z,out)\n",
    "    end\n",
    "    \n",
    "    for x in 1:(N-i)\n",
    "        out = kron(out,I)\n",
    "    end\n",
    "    return out\n",
    "end"
   ]
  },
  {
   "cell_type": "code",
   "execution_count": 68,
   "id": "7d4b8def",
   "metadata": {},
   "outputs": [
    {
     "data": {
      "text/plain": [
       "1.7270097505724036"
      ]
     },
     "execution_count": 68,
     "metadata": {},
     "output_type": "execute_result"
    }
   ],
   "source": [
    "# Gaussian random distribution\n",
    "Gr = randn(length(new_permu))\n",
    "Gr[1]"
   ]
  },
  {
   "cell_type": "code",
   "execution_count": 99,
   "id": "05676585",
   "metadata": {},
   "outputs": [
    {
     "data": {
      "text/plain": [
       "256×256 Matrix{Int64}:\n",
       " 0  0  0   0  0   0   0  0  0   0   0  …   0   0  0  0   0   0  0  0  0  0  0\n",
       " 0  0  0   0  0   0   0  0  0   0   0      0   0  0  0   0   0  0  0  0  0  0\n",
       " 0  0  0   0  0   0   0  0  0   0   0      0   0  0  0   0   0  0  0  0  0  0\n",
       " 0  0  0   0  0   0   0  0  0   0   0      0   0  0  0   0   0  0  0  0  0  0\n",
       " 0  0  0   0  0   0   0  0  0   0   0      0   0  0  0   0   0  0  0  0  0  0\n",
       " 0  0  0   0  0   0   0  0  0   0  -1  …   0   0  0  0   0   0  0  0  0  0  0\n",
       " 0  0  0   0  0   0   0  0  0  -1   0      0   0  0  0   0   0  0  0  0  0  0\n",
       " 0  0  0   0  0   0   0  0  0   0   0      0   0  0  0   0   0  0  0  0  0  0\n",
       " 0  0  0   0  0   0   0  0  0   0   0      0   0  0  0   0   0  0  0  0  0  0\n",
       " 0  0  0   0  0   0  -1  0  0   0   0      0   0  0  0   0   0  0  0  0  0  0\n",
       " 0  0  0   0  0  -1   0  0  0   0   0  …   0   0  0  0   0   0  0  0  0  0  0\n",
       " 0  0  0   0  0   0   0  0  0   0   0      0   0  0  0   0   0  0  0  0  0  0\n",
       " 0  0  0  -1  0   0   0  0  0   0   0      0   0  0  0   0   0  0  0  0  0  0\n",
       " ⋮                ⋮                 ⋮  ⋱   ⋮                 ⋮              ⋮\n",
       " 0  0  0   0  0   0   0  0  0   0   0      0   0  0  0   0   0  0  0  0  0  0\n",
       " 0  0  0   0  0   0   0  0  0   0   0  …   0   0  0  0   0  -1  0  0  0  0  0\n",
       " 0  0  0   0  0   0   0  0  0   0   0      0   0  0  0  -1   0  0  0  0  0  0\n",
       " 0  0  0   0  0   0   0  0  0   0   0      0   0  0  0   0   0  0  0  0  0  0\n",
       " 0  0  0   0  0   0   0  0  0   0   0      0   0  0  0   0   0  0  0  0  0  0\n",
       " 0  0  0   0  0   0   0  0  0   0   0      0  -1  0  0   0   0  0  0  0  0  0\n",
       " 0  0  0   0  0   0   0  0  0   0   0  …  -1   0  0  0   0   0  0  0  0  0  0\n",
       " 0  0  0   0  0   0   0  0  0   0   0      0   0  0  0   0   0  0  0  0  0  0\n",
       " 0  0  0   0  0   0   0  0  0   0   0      0   0  0  0   0   0  0  0  0  0  0\n",
       " 0  0  0   0  0   0   0  0  0   0   0      0   0  0  0   0   0  0  0  0  0  0\n",
       " 0  0  0   0  0   0   0  0  0   0   0      0   0  0  0   0   0  0  0  0  0  0\n",
       " 0  0  0   0  0   0   0  0  0   0   0  …   0   0  0  0   0   0  0  0  0  0  0"
      ]
     },
     "execution_count": 99,
     "metadata": {},
     "output_type": "execute_result"
    }
   ],
   "source": [
    "H = cd(new_permu[1][1],N)*cd(new_permu[1][2],N)*cc(new_permu[1][3],N)*cc(new_permu[1][4],N)\n",
    "for i in 2:length(new_permu)\n",
    "    H = H + cd(new_permu[i][1],N)*cd(new_permu[i][2],N)*cc(new_permu[i][3],N)*cc(new_permu[i][4],N)\n",
    "#     print(i)\n",
    "end\n",
    "H = H + conj(H)'\n",
    "# H = H"
   ]
  },
  {
   "cell_type": "code",
   "execution_count": 74,
   "id": "0f4b7c93",
   "metadata": {},
   "outputs": [
    {
     "data": {
      "text/plain": [
       "16×16 Matrix{Complex{Int64}}:\n",
       " 0+0im  0+0im  0+0im  0+0im  0+0im  …  0+0im  0+0im  0+0im  0+0im  0+0im\n",
       " 0+0im  0+0im  0+0im  0+0im  0+0im     0+0im  0+0im  0+0im  0+0im  0+0im\n",
       " 0+0im  0+0im  0+0im  0+0im  0+0im     0+0im  0+0im  0+0im  0+0im  0+0im\n",
       " 0+0im  0+0im  0+0im  0+0im  0+0im     0+0im  0+0im  0+0im  0+0im  0+0im\n",
       " 0+0im  0+0im  0+0im  0+0im  0+0im     0+0im  0+0im  0+0im  0+0im  0+0im\n",
       " 0+0im  0+0im  0+0im  0+0im  0+0im  …  0+0im  0+0im  0+0im  0+0im  0+0im\n",
       " 0+0im  0+0im  0+0im  0+0im  0+0im     0+0im  0+0im  0+0im  0+0im  0+0im\n",
       " 0+0im  0+0im  0+0im  0+0im  0+0im     0+0im  0+0im  0+0im  0+0im  0+0im\n",
       " 0+0im  0+0im  0+0im  0+0im  0+0im     0+0im  0+0im  0+0im  0+0im  0+0im\n",
       " 0+0im  0+0im  0+0im  0+0im  0+0im     0+0im  0+0im  0+0im  0+0im  0+0im\n",
       " 0+0im  0+0im  0+0im  0+0im  0+0im  …  0+0im  0+0im  0+0im  0+0im  0+0im\n",
       " 0+0im  0+0im  0+0im  0+0im  0+0im     0+0im  0+0im  0+0im  0+0im  0+0im\n",
       " 0+0im  0+0im  0+0im  0+0im  0+0im     0+0im  0+0im  0+0im  0+0im  0+0im\n",
       " 0+0im  0+0im  0+0im  0+0im  0+0im     0+0im  0+0im  0+0im  0+0im  0+0im\n",
       " 0+0im  0+0im  0+0im  0+0im  0+0im     0+0im  0+0im  0+0im  0+0im  0+0im\n",
       " 0+0im  0+0im  0+0im  0+0im  0+0im  …  0+0im  0+0im  0+0im  0+0im  0+0im"
      ]
     },
     "execution_count": 74,
     "metadata": {},
     "output_type": "execute_result"
    }
   ],
   "source": [
    "H"
   ]
  },
  {
   "cell_type": "code",
   "execution_count": 100,
   "id": "a001599f",
   "metadata": {},
   "outputs": [
    {
     "data": {
      "text/plain": [
       "Eigen{Float64, Float64, Matrix{Float64}, Vector{Float64}}\n",
       "values:\n",
       "256-element Vector{Float64}:\n",
       " -14.999999999999995\n",
       " -14.999999999999995\n",
       " -11.640015019702917\n",
       " -11.640015019702917\n",
       " -11.640015019702915\n",
       " -11.640015019702915\n",
       " -11.235984894934829\n",
       " -11.235984894934829\n",
       " -11.235984894934825\n",
       " -11.235984894934825\n",
       " -10.863414579407292\n",
       " -10.000000000000002\n",
       "  -9.831760571207182\n",
       "   ⋮\n",
       "   8.50118963383296\n",
       "   8.50118963383296\n",
       "   8.50118963383296\n",
       "   8.501189633832963\n",
       "   8.506513705856127\n",
       "   8.680345946504135\n",
       "   8.759562316711866\n",
       "   8.759562316711866\n",
       "   9.326306601722328\n",
       "   9.326306601722328\n",
       "   9.56420179444156\n",
       "   9.564201794441567\n",
       "vectors:\n",
       "256×256 Matrix{Float64}:\n",
       "  0.0           0.0           0.0          …   0.0           0.0\n",
       "  0.0           0.0           0.0              0.0           0.0\n",
       "  0.0           0.0           0.0              0.0           0.0\n",
       "  0.0390011    -0.184914     -1.36471e-18      7.16966e-19  -3.24561e-17\n",
       "  0.0           0.0           0.0              0.0           0.0\n",
       "  0.0390011    -0.184914     -1.2258e-18   …   4.67005e-19  -1.91331e-17\n",
       "  0.0390011    -0.184914     -1.07248e-18      5.18013e-19  -2.07014e-17\n",
       "  6.50511e-18  -2.79719e-17  -0.0291337        3.5076e-18    1.60074e-17\n",
       "  4.8935e-49    7.4199e-46   -4.01901e-49     -1.1449e-49    1.15169e-45\n",
       "  0.0390011    -0.184914     -1.33154e-18      5.00013e-19  -2.14934e-17\n",
       "  0.0390011    -0.184914     -8.7711e-19   …   4.69738e-19  -1.82929e-17\n",
       "  6.55929e-18  -2.47192e-17  -0.0506959       -3.59131e-18   2.67616e-17\n",
       "  0.0390011    -0.184914     -5.9039e-19       4.98141e-19  -2.06319e-17\n",
       "  ⋮                                        ⋱                 ⋮\n",
       " -1.27539e-17   5.19709e-17  -0.00152017      -2.96373e-16  -8.36405e-19\n",
       " -0.184914     -0.0390011     0.0          …  -1.69349e-16   5.17812e-17\n",
       "  0.184914      0.0390011     1.66533e-16      2.55857e-17  -1.4483e-17\n",
       " -1.11473e-30   4.04173e-30  -1.91329e-17      2.25514e-17  -3.02628e-17\n",
       "  3.69779e-31  -1.16865e-30  -0.236552         2.77556e-17  -2.35814e-18\n",
       "  0.184914      0.0390011     6.80647e-19     -8.41754e-17   3.38307e-17\n",
       " -0.184914     -0.0390011     4.66931e-18  …   3.7512e-17   -1.21361e-17\n",
       "  3.33067e-16   8.32667e-17  -6.93889e-18     -1.51788e-18  -3.38813e-20\n",
       "  0.184914      0.0390011    -8.08097e-34      3.12406e-49  -1.5846e-44\n",
       "  0.0           0.0           0.0              0.0           0.0\n",
       "  0.0           0.0           0.0              0.0           0.0\n",
       "  0.0           0.0           0.0          …   0.0           0.0"
      ]
     },
     "execution_count": 100,
     "metadata": {},
     "output_type": "execute_result"
    }
   ],
   "source": [
    "eigen(H)"
   ]
  },
  {
   "cell_type": "code",
   "execution_count": 86,
   "id": "67958c7e",
   "metadata": {},
   "outputs": [
    {
     "data": {
      "text/plain": [
       "32×32 Matrix{Float64}:\n",
       "  0.0           0.0        0.0          …   0.0        0.0\n",
       "  0.0           0.0        0.0              0.0        0.0\n",
       "  0.0           0.0        0.0              0.0        0.0\n",
       " -0.57735       0.0        0.0              0.0       -0.57735\n",
       "  0.0           0.0        0.0              0.0        0.0\n",
       " -0.288675      0.0        0.0          …   0.0       -0.288675\n",
       " -0.288675      0.0        0.0              0.0       -0.288675\n",
       " -5.40772e-33   0.57735    0.408248         0.57735   -1.13668e-32\n",
       "  0.0           0.0        0.0              0.0        0.0\n",
       "  0.0           0.0        0.0              0.0        0.0\n",
       "  0.0           0.0        0.0          …   0.0        0.0\n",
       " -3.83674e-33  -0.288675   0.408248        -0.288675  -1.38778e-17\n",
       " -0.288675      0.0        0.0              0.0        0.288675\n",
       "  ⋮                                     ⋱   ⋮         \n",
       " -0.288675      0.0        0.0          …   0.0        0.288675\n",
       "  0.0           0.0        0.0              0.0        0.0\n",
       " -2.22045e-16   0.0        0.0              0.0       -2.22045e-16\n",
       "  5.69606e-18   0.0        0.0              0.0        1.66152e-17\n",
       " -0.57735       0.0        0.0              0.0        0.57735\n",
       " -6.37483e-17   0.288675   0.408248     …  -0.288675   6.20477e-17\n",
       " -6.37483e-17  -0.288675  -0.408248         0.288675   6.20477e-17\n",
       " -4.95806e-18   0.0       -1.11022e-16      0.0       -1.10666e-17\n",
       "  0.0           0.57735   -0.408248        -0.57735    0.0\n",
       "  0.0           0.0        0.0              0.0        0.0\n",
       "  0.0           0.0        0.0          …   0.0        0.0\n",
       "  0.0           0.0        0.0              0.0        0.0"
      ]
     },
     "execution_count": 86,
     "metadata": {},
     "output_type": "execute_result"
    }
   ],
   "source": [
    "energy = eigen(H).values\n",
    "wavefunction = eigen(H).vectors"
   ]
  },
  {
   "cell_type": "code",
   "execution_count": 87,
   "id": "25875ff2",
   "metadata": {},
   "outputs": [
    {
     "data": {
      "text/plain": [
       "32-element Vector{Float64}:\n",
       " -1.9999999999999991\n",
       " -1.9999999999999964\n",
       " -0.9999999999999991\n",
       " -0.9999999999999964\n",
       " -2.1852988765981944e-17\n",
       " -8.668381533337193e-33\n",
       " -2.3138192381365287e-33\n",
       " -1.9423183781574216e-33\n",
       " -1.8474962823804648e-33\n",
       " -1.822549612935927e-33\n",
       " -1.6871747037481904e-48\n",
       " -5.518448357253345e-49\n",
       "  0.0\n",
       "  ⋮\n",
       "  6.0999488766649754e-65\n",
       "  2.366830620133354e-64\n",
       "  1.3021776964815877e-49\n",
       "  8.501950186931973e-34\n",
       "  7.703719777548943e-33\n",
       "  1.1798169150920917e-17\n",
       "  8.688335204427573e-17\n",
       "  4.440892098500626e-16\n",
       "  1.0000000000000009\n",
       "  1.0000000000000016\n",
       "  2.0\n",
       "  2.0000000000000004"
      ]
     },
     "execution_count": 87,
     "metadata": {},
     "output_type": "execute_result"
    }
   ],
   "source": [
    "energy"
   ]
  },
  {
   "cell_type": "code",
   "execution_count": 43,
   "id": "74577eaf",
   "metadata": {},
   "outputs": [
    {
     "data": {
      "text/plain": [
       "32-element Vector{Float64}:\n",
       " 0.0\n",
       " 0.0\n",
       " 0.0\n",
       " 0.0\n",
       " 0.0\n",
       " 0.0\n",
       " 0.0\n",
       " 0.0\n",
       " 0.0\n",
       " 0.0\n",
       " 0.0\n",
       " 0.0\n",
       " 0.0\n",
       " ⋮\n",
       " 0.0\n",
       " 0.0\n",
       " 0.0\n",
       " 0.0\n",
       " 0.0\n",
       " 0.0\n",
       " 0.0\n",
       " 0.0\n",
       " 0.0\n",
       " 0.0\n",
       " 0.0\n",
       " 0.0"
      ]
     },
     "execution_count": 43,
     "metadata": {},
     "output_type": "execute_result"
    }
   ],
   "source": [
    "H*wavefunction[1,1:32]"
   ]
  },
  {
   "cell_type": "code",
   "execution_count": 40,
   "id": "4cbb1c42",
   "metadata": {},
   "outputs": [
    {
     "data": {
      "text/plain": [
       "1×32 transpose(::Vector{Float64}) with eltype Float64:\n",
       " 0.0  0.0  0.0  0.0  0.0  0.0  0.0  0.0  …  0.0  0.0  0.0  0.0  0.0  0.0  0.0"
      ]
     },
     "execution_count": 40,
     "metadata": {},
     "output_type": "execute_result"
    }
   ],
   "source": [
    "transpose(wavefunction[1,1:32])"
   ]
  },
  {
   "cell_type": "code",
   "execution_count": null,
   "id": "0d83650a",
   "metadata": {},
   "outputs": [],
   "source": []
  }
 ],
 "metadata": {
  "kernelspec": {
   "display_name": "Julia 1.8.5",
   "language": "julia",
   "name": "julia-1.8"
  },
  "language_info": {
   "file_extension": ".jl",
   "mimetype": "application/julia",
   "name": "julia",
   "version": "1.8.5"
  }
 },
 "nbformat": 4,
 "nbformat_minor": 5
}
