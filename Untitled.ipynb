{
 "cells": [
  {
   "cell_type": "code",
   "execution_count": 143,
   "id": "9a847934",
   "metadata": {},
   "outputs": [
    {
     "name": "stderr",
     "output_type": "stream",
     "text": [
      "\u001b[36m\u001b[1m[ \u001b[22m\u001b[39m\u001b[36m\u001b[1mInfo: \u001b[22m\u001b[39mPrecompiling RandomMatrices [2576dda1-a324-5b11-aa66-c48ed7e3c618]\n",
      "\u001b[33m\u001b[1m┌ \u001b[22m\u001b[39m\u001b[33m\u001b[1mWarning: \u001b[22m\u001b[39mModule SpecialFunctions with build ID 171970502759834 is missing from the cache.\n",
      "\u001b[33m\u001b[1m│ \u001b[22m\u001b[39mThis may mean SpecialFunctions [276daf66-3868-5448-9aa4-cd146d93841b] does not support precompilation but is imported by a module that does.\n",
      "\u001b[33m\u001b[1m└ \u001b[22m\u001b[39m\u001b[90m@ Base loading.jl:1325\u001b[39m\n",
      "\u001b[36m\u001b[1m[ \u001b[22m\u001b[39m\u001b[36m\u001b[1mInfo: \u001b[22m\u001b[39mSkipping precompilation since __precompile__(false). Importing RandomMatrices [2576dda1-a324-5b11-aa66-c48ed7e3c618].\n",
      "\u001b[36m\u001b[1m[ \u001b[22m\u001b[39m\u001b[36m\u001b[1mInfo: \u001b[22m\u001b[39mPrecompiling FastGaussQuadrature [442a2c76-b920-505d-bb47-c5924d526838]\n",
      "\u001b[33m\u001b[1m┌ \u001b[22m\u001b[39m\u001b[33m\u001b[1mWarning: \u001b[22m\u001b[39mModule SpecialFunctions with build ID 171970502759834 is missing from the cache.\n",
      "\u001b[33m\u001b[1m│ \u001b[22m\u001b[39mThis may mean SpecialFunctions [276daf66-3868-5448-9aa4-cd146d93841b] does not support precompilation but is imported by a module that does.\n",
      "\u001b[33m\u001b[1m└ \u001b[22m\u001b[39m\u001b[90m@ Base loading.jl:1325\u001b[39m\n",
      "\u001b[36m\u001b[1m[ \u001b[22m\u001b[39m\u001b[36m\u001b[1mInfo: \u001b[22m\u001b[39mSkipping precompilation since __precompile__(false). Importing FastGaussQuadrature [442a2c76-b920-505d-bb47-c5924d526838].\n",
      "\u001b[36m\u001b[1m[ \u001b[22m\u001b[39m\u001b[36m\u001b[1mInfo: \u001b[22m\u001b[39mPrecompiling Distributions [31c24e10-a181-5473-b8eb-7969acd0382f]\n",
      "\u001b[33m\u001b[1m┌ \u001b[22m\u001b[39m\u001b[33m\u001b[1mWarning: \u001b[22m\u001b[39mModule StatsBase with build ID 171971036034459 is missing from the cache.\n",
      "\u001b[33m\u001b[1m│ \u001b[22m\u001b[39mThis may mean StatsBase [2913bbd2-ae8a-5f71-8c99-4fb6c76f3a91] does not support precompilation but is imported by a module that does.\n",
      "\u001b[33m\u001b[1m└ \u001b[22m\u001b[39m\u001b[90m@ Base loading.jl:1325\u001b[39m\n",
      "\u001b[36m\u001b[1m[ \u001b[22m\u001b[39m\u001b[36m\u001b[1mInfo: \u001b[22m\u001b[39mSkipping precompilation since __precompile__(false). Importing Distributions [31c24e10-a181-5473-b8eb-7969acd0382f].\n",
      "\u001b[36m\u001b[1m[ \u001b[22m\u001b[39m\u001b[36m\u001b[1mInfo: \u001b[22m\u001b[39mPrecompiling StatsFuns [4c63d2b9-4356-54db-8cca-17b64c39e42c]\n",
      "\u001b[33m\u001b[1m┌ \u001b[22m\u001b[39m\u001b[33m\u001b[1mWarning: \u001b[22m\u001b[39mModule SpecialFunctions with build ID 171970502759834 is missing from the cache.\n",
      "\u001b[33m\u001b[1m│ \u001b[22m\u001b[39mThis may mean SpecialFunctions [276daf66-3868-5448-9aa4-cd146d93841b] does not support precompilation but is imported by a module that does.\n",
      "\u001b[33m\u001b[1m└ \u001b[22m\u001b[39m\u001b[90m@ Base loading.jl:1325\u001b[39m\n",
      "\u001b[36m\u001b[1m[ \u001b[22m\u001b[39m\u001b[36m\u001b[1mInfo: \u001b[22m\u001b[39mSkipping precompilation since __precompile__(false). Importing StatsFuns [4c63d2b9-4356-54db-8cca-17b64c39e42c].\n",
      "\u001b[36m\u001b[1m[ \u001b[22m\u001b[39m\u001b[36m\u001b[1mInfo: \u001b[22m\u001b[39mPrecompiling HypergeometricFunctions [34004b35-14d8-5ef3-9330-4cdb6864b03a]\n",
      "\u001b[33m\u001b[1m┌ \u001b[22m\u001b[39m\u001b[33m\u001b[1mWarning: \u001b[22m\u001b[39mModule SpecialFunctions with build ID 171970502759834 is missing from the cache.\n",
      "\u001b[33m\u001b[1m│ \u001b[22m\u001b[39mThis may mean SpecialFunctions [276daf66-3868-5448-9aa4-cd146d93841b] does not support precompilation but is imported by a module that does.\n",
      "\u001b[33m\u001b[1m└ \u001b[22m\u001b[39m\u001b[90m@ Base loading.jl:1325\u001b[39m\n",
      "\u001b[33m\u001b[1m┌ \u001b[22m\u001b[39m\u001b[33m\u001b[1mWarning: \u001b[22m\u001b[39mModule SpecialFunctions with build ID 171970502759834 is missing from the cache.\n",
      "\u001b[33m\u001b[1m│ \u001b[22m\u001b[39mThis may mean SpecialFunctions [276daf66-3868-5448-9aa4-cd146d93841b] does not support precompilation but is imported by a module that does.\n",
      "\u001b[33m\u001b[1m└ \u001b[22m\u001b[39m\u001b[90m@ Base loading.jl:1325\u001b[39m\n",
      "\u001b[36m\u001b[1m[ \u001b[22m\u001b[39m\u001b[36m\u001b[1mInfo: \u001b[22m\u001b[39mSkipping precompilation since __precompile__(false). Importing HypergeometricFunctions [34004b35-14d8-5ef3-9330-4cdb6864b03a].\n",
      "\u001b[36m\u001b[1m[ \u001b[22m\u001b[39m\u001b[36m\u001b[1mInfo: \u001b[22m\u001b[39mPrecompiling DualNumbers [fa6b7ba4-c1ee-5f82-b5fc-ecf0adba8f74]\n",
      "\u001b[33m\u001b[1m┌ \u001b[22m\u001b[39m\u001b[33m\u001b[1mWarning: \u001b[22m\u001b[39mModule SpecialFunctions with build ID 171970502759834 is missing from the cache.\n",
      "\u001b[33m\u001b[1m│ \u001b[22m\u001b[39mThis may mean SpecialFunctions [276daf66-3868-5448-9aa4-cd146d93841b] does not support precompilation but is imported by a module that does.\n",
      "\u001b[33m\u001b[1m└ \u001b[22m\u001b[39m\u001b[90m@ Base loading.jl:1325\u001b[39m\n",
      "\u001b[36m\u001b[1m[ \u001b[22m\u001b[39m\u001b[36m\u001b[1mInfo: \u001b[22m\u001b[39mSkipping precompilation since __precompile__(false). Importing DualNumbers [fa6b7ba4-c1ee-5f82-b5fc-ecf0adba8f74].\n"
     ]
    }
   ],
   "source": [
    "using LinearAlgebra, SparseArrays\n",
    "using Random\n",
    "using LinearMaps\n",
    "using Combinatorics\n",
    "using ProfileView\n",
    "using Arpack\n",
    "using Plots\n",
    "using BitIntegers\n",
    "using Statistics\n",
    "using StatsBase\n",
    "using KrylovKit\n",
    "using Revise\n",
    "using DataFrames\n",
    "using RandomMatrices\n"
   ]
  },
  {
   "cell_type": "code",
   "execution_count": 13,
   "id": "7f952046",
   "metadata": {},
   "outputs": [],
   "source": [
    "# \\otimes 쓰고 tab 누르면 됨 ⊗\n",
    "# Jordan-Wigner Representation\n",
    "# https://learn.microsoft.com/en-us/azure/quantum/user-guide/libraries/chemistry/concepts/jordan-wigner\n",
    "\n"
   ]
  },
  {
   "cell_type": "code",
   "execution_count": 136,
   "id": "eb78bc0a",
   "metadata": {},
   "outputs": [
    {
     "data": {
      "text/plain": [
       "2×2 Matrix{Int64}:\n",
       " 1  0\n",
       " 0  1"
      ]
     },
     "execution_count": 136,
     "metadata": {},
     "output_type": "execute_result"
    }
   ],
   "source": [
    "N = 5\n",
    "global sigma_p = [0 1;0 0]\n",
    "global sigma_m = [0 0;1 0]\n",
    "global sigma_z = [1 0;0 -1]\n",
    "global I = [1 0; 0 1]\n"
   ]
  },
  {
   "cell_type": "code",
   "execution_count": 126,
   "id": "de18bb91",
   "metadata": {},
   "outputs": [
    {
     "data": {
      "text/plain": [
       "120-element Vector{Vector{Int64}}:\n",
       " [1, 2, 3, 4]\n",
       " [1, 2, 3, 5]\n",
       " [1, 2, 4, 3]\n",
       " [1, 2, 4, 5]\n",
       " [1, 2, 5, 3]\n",
       " [1, 2, 5, 4]\n",
       " [1, 3, 2, 4]\n",
       " [1, 3, 2, 5]\n",
       " [1, 3, 4, 2]\n",
       " [1, 3, 4, 5]\n",
       " [1, 3, 5, 2]\n",
       " [1, 3, 5, 4]\n",
       " [1, 4, 2, 3]\n",
       " ⋮\n",
       " [5, 3, 1, 2]\n",
       " [5, 3, 1, 4]\n",
       " [5, 3, 2, 1]\n",
       " [5, 3, 2, 4]\n",
       " [5, 3, 4, 1]\n",
       " [5, 3, 4, 2]\n",
       " [5, 4, 1, 2]\n",
       " [5, 4, 1, 3]\n",
       " [5, 4, 2, 1]\n",
       " [5, 4, 2, 3]\n",
       " [5, 4, 3, 1]\n",
       " [5, 4, 3, 2]"
      ]
     },
     "execution_count": 126,
     "metadata": {},
     "output_type": "execute_result"
    }
   ],
   "source": [
    "permus = collect(multiset_permutations(collect(1:N), 4))\n"
   ]
  },
  {
   "cell_type": "code",
   "execution_count": 135,
   "id": "e9ec9957",
   "metadata": {},
   "outputs": [],
   "source": [
    "new_permu = Vector{Int64}[]\n",
    "# new_permu = []\n",
    "for i in 1:length(permus)\n",
    "    a = permus[i][1]\n",
    "    b = permus[i][2]\n",
    "    c = permus[i][3]\n",
    "    d = permus[i][4]\n",
    "    if a<b && c<d && a<c\n",
    "        new_permu = push!(new_permu,[a,b,c,d])\n",
    "#         print([a,b,c,d])\n",
    "    end    \n",
    "end\n",
    "\n",
    "# new_permu\n"
   ]
  },
  {
   "cell_type": "code",
   "execution_count": 128,
   "id": "f9aee85b",
   "metadata": {},
   "outputs": [
    {
     "data": {
      "text/plain": [
       "cc (generic function with 1 method)"
      ]
     },
     "execution_count": 128,
     "metadata": {},
     "output_type": "execute_result"
    }
   ],
   "source": [
    "function cd(i,N)\n",
    "    out = sigma_p\n",
    "    for x in 1:(i-1)\n",
    "        out = kron(sigma_z,out)\n",
    "    end\n",
    "    \n",
    "    for x in 1:(N-i)\n",
    "        out = kron(out,I)\n",
    "    end\n",
    "    return out\n",
    "end\n",
    "\n",
    "function cc(i,N)\n",
    "    out = sigma_m\n",
    "    for x in 1:(i-1)\n",
    "        out = kron(sigma_z,out)\n",
    "    end\n",
    "    \n",
    "    for x in 1:(N-i)\n",
    "        out = kron(out,I)\n",
    "    end\n",
    "    return out\n",
    "end"
   ]
  },
  {
   "cell_type": "code",
   "execution_count": 134,
   "id": "f07d4f6f",
   "metadata": {},
   "outputs": [],
   "source": [
    "# new_permu[1]"
   ]
  },
  {
   "cell_type": "code",
   "execution_count": 133,
   "id": "b7a41e21",
   "metadata": {},
   "outputs": [],
   "source": [
    "# cd(new_permu[1][1],N)*cd(new_permu[1][2],N)*cc(new_permu[1][3],N)*cc(new_permu[1][4],N)"
   ]
  },
  {
   "cell_type": "code",
   "execution_count": 141,
   "id": "05676585",
   "metadata": {},
   "outputs": [
    {
     "data": {
      "text/plain": [
       "32×32 Matrix{Int64}:\n",
       " 0  0  0   0  0   0   0   0  0   0   0  …   0  0   0   0   0  0   0  0  0  0\n",
       " 0  0  0   0  0   0   0   0  0   0   0      0  0   0   0   0  0   0  0  0  0\n",
       " 0  0  0   0  0   0   0   0  0   0   0      0  0   0   0   0  0   0  0  0  0\n",
       " 0  0  0   0  0   0   0   0  0   0   0      0  0  -1   0   0  0   0  0  0  0\n",
       " 0  0  0   0  0   0   0   0  0   0   0      0  0   0   0   0  0   0  0  0  0\n",
       " 0  0  0   0  0   0   0   0  0   0  -1  …   0  0  -1   0   0  0   0  0  0  0\n",
       " 0  0  0   0  0   0   0   0  0  -1   0      0  0  -1   0   0  0   0  0  0  0\n",
       " 0  0  0   0  0   0   0   0  0   0   0      0  0   0  -1   1  0  -1  0  0  0\n",
       " 0  0  0   0  0   0   0   0  0   0   0      0  0   0   0   0  0   0  0  0  0\n",
       " 0  0  0   0  0   0  -1   0  0   0   0      0  0   0   0   0  0   0  0  0  0\n",
       " 0  0  0   0  0  -1   0   0  0   0   0  …   0  0   0   0   0  0   0  0  0  0\n",
       " 0  0  0   0  0   0   0   0  0   0   0      1  0   0   0   0  0   1  0  0  0\n",
       " 0  0  0  -1  0   0   0   0  0   0   0      0  0   0   0   0  0   0  0  0  0\n",
       " ⋮                ⋮                  ⋮  ⋱              ⋮                ⋮  \n",
       " 0  0  0  -1  0   0   0   0  0  -1  -1  …   0  0   0   0   0  0   0  0  0  0\n",
       " 0  0  0   0  0   0   0   0  0   0   0      0  0   0   0  -1  0   0  0  0  0\n",
       " 0  0  0   0  0   0   0   0  0   0   0      0  0   0  -1   0  0   0  0  0  0\n",
       " 0  0  0   0  0   0   0   0  0   0   0      0  0   0   0   0  0   0  0  0  0\n",
       " 0  0  0  -1  0  -1  -1   0  0   0   0      0  0   0   0   0  0   0  0  0  0\n",
       " 0  0  0   0  0   0   0  -1  0   0   0  …  -1  0   0   0   0  0   0  0  0  0\n",
       " 0  0  0   0  0   0   0   1  0   0   0      0  0   0   0   0  0   0  0  0  0\n",
       " 0  0  0   0  0   0   0   0  0   0   0      0  0   0   0   0  0   0  0  0  0\n",
       " 0  0  0   0  0   0   0  -1  0   0   0      0  0   0   0   0  0   0  0  0  0\n",
       " 0  0  0   0  0   0   0   0  0   0   0      0  0   0   0   0  0   0  0  0  0\n",
       " 0  0  0   0  0   0   0   0  0   0   0  …   0  0   0   0   0  0   0  0  0  0\n",
       " 0  0  0   0  0   0   0   0  0   0   0      0  0   0   0   0  0   0  0  0  0"
      ]
     },
     "execution_count": 141,
     "metadata": {},
     "output_type": "execute_result"
    }
   ],
   "source": [
    "H = cd(new_permu[1][1],N)*cd(new_permu[1][2],N)*cc(new_permu[1][3],N)*cc(new_permu[1][4],N)\n",
    "for i in 2:length(new_permu)\n",
    "    H = H + cd(new_permu[i][1],N)*cd(new_permu[i][2],N)*cc(new_permu[i][3],N)*cc(new_permu[i][4],N)\n",
    "#     print(i)\n",
    "end\n",
    "H = H + H'"
   ]
  },
  {
   "cell_type": "code",
   "execution_count": 142,
   "id": "0f4b7c93",
   "metadata": {},
   "outputs": [
    {
     "data": {
      "text/plain": [
       "true"
      ]
     },
     "execution_count": 142,
     "metadata": {},
     "output_type": "execute_result"
    }
   ],
   "source": [
    "H' == H"
   ]
  },
  {
   "cell_type": "code",
   "execution_count": 144,
   "id": "e2d75c41",
   "metadata": {},
   "outputs": [
    {
     "ename": "LoadError",
     "evalue": "MethodError: no method matching GaussianHermite(::Int64, ::Int64)\n\u001b[0mClosest candidates are:\n\u001b[0m  GaussianHermite(::Any) at ~/.julia/packages/RandomMatrices/3kXpo/src/GaussianEnsembles.jl:43",
     "output_type": "error",
     "traceback": [
      "MethodError: no method matching GaussianHermite(::Int64, ::Int64)\n\u001b[0mClosest candidates are:\n\u001b[0m  GaussianHermite(::Any) at ~/.julia/packages/RandomMatrices/3kXpo/src/GaussianEnsembles.jl:43",
      "",
      "Stacktrace:",
      " [1] top-level scope",
      "   @ In[144]:1"
     ]
    }
   ],
   "source": [
    "GaussianHermite(1,2)"
   ]
  },
  {
   "cell_type": "code",
   "execution_count": null,
   "id": "cb5eef0d",
   "metadata": {},
   "outputs": [],
   "source": []
  }
 ],
 "metadata": {
  "kernelspec": {
   "display_name": "Julia 1.8.5",
   "language": "julia",
   "name": "julia-1.8"
  },
  "language_info": {
   "file_extension": ".jl",
   "mimetype": "application/julia",
   "name": "julia",
   "version": "1.8.5"
  }
 },
 "nbformat": 4,
 "nbformat_minor": 5
}
